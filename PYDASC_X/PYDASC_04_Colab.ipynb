{
 "cells": [
  {
   "cell_type": "markdown",
   "metadata": {
    "colab_type": "text",
    "id": "7xG7Zkdk-tF_"
   },
   "source": [
    "# Activités fondamentales"
   ]
  },
  {
   "cell_type": "markdown",
   "metadata": {
    "colab_type": "text",
    "id": "6yaQ57vmAsdC"
   },
   "source": [
    "## Création de cellules de code"
   ]
  },
  {
   "cell_type": "code",
   "execution_count": 0,
   "metadata": {
    "colab": {
     "base_uri": "https://localhost:8080/",
     "height": 34
    },
    "colab_type": "code",
    "id": "PwvaI-nF1ZaM",
    "outputId": "ab0657e1-d220-4dba-eeae-cd840c90f639"
   },
   "outputs": [
    {
     "name": "stdout",
     "output_type": "stream",
     "text": [
      "Salut les amis !\n"
     ]
    }
   ],
   "source": [
    "print('Salut les amis !')"
   ]
  },
  {
   "cell_type": "markdown",
   "metadata": {
    "colab_type": "text",
    "id": "26ktBf7OAk2z"
   },
   "source": [
    "## Création de cellules de texte"
   ]
  },
  {
   "cell_type": "markdown",
   "metadata": {
    "colab_type": "text",
    "id": "fGf8EzC3BSNB"
   },
   "source": [
    "## Création de cellules spéciales"
   ]
  },
  {
   "cell_type": "markdown",
   "metadata": {
    "colab_type": "text",
    "id": "_ccCNVKnBWOB"
   },
   "source": [
    "### Gestion des titres"
   ]
  },
  {
   "cell_type": "markdown",
   "metadata": {
    "colab_type": "text",
    "id": "jdcRF2WiBciq"
   },
   "source": [
    "### Gestion de la table des matières"
   ]
  },
  {
   "cell_type": "markdown",
   "metadata": {
    "colab_type": "toc",
    "id": "2rdZ0d-NBgTK"
   },
   "source": [
    ">[Activités fondamentales](#scrollTo=7xG7Zkdk-tF_)\n",
    "\n",
    ">>[Création de cellules de code](#scrollTo=6yaQ57vmAsdC)\n",
    "\n",
    ">>[Création de cellules de texte](#scrollTo=26ktBf7OAk2z)\n",
    "\n",
    ">>[Création de cellules spéciales](#scrollTo=fGf8EzC3BSNB)\n",
    "\n",
    ">>>[Gestion des titres](#scrollTo=_ccCNVKnBWOB)\n",
    "\n",
    ">>>[Gestion de la table des matières](#scrollTo=jdcRF2WiBciq)\n",
    "\n"
   ]
  }
 ],
 "metadata": {
  "colab": {
   "collapsed_sections": [],
   "name": "PYDASC_04_Colab.ipynb",
   "provenance": [],
   "version": "0.3.2"
  },
  "kernelspec": {
   "display_name": "Python 3",
   "language": "python",
   "name": "python3"
  },
  "language_info": {
   "codemirror_mode": {
    "name": "ipython",
    "version": 3
   },
   "file_extension": ".py",
   "mimetype": "text/x-python",
   "name": "python",
   "nbconvert_exporter": "python",
   "pygments_lexer": "ipython3",
   "version": "3.6.5"
  }
 },
 "nbformat": 4,
 "nbformat_minor": 1
}
