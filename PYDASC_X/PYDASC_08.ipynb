{
 "cells": [
  {
   "cell_type": "markdown",
   "metadata": {},
   "source": [
    "# Traitements HTML et XML (Chap 8)"
   ]
  },
  {
   "cell_type": "markdown",
   "metadata": {},
   "source": [
    "## Analyse XML et HTML"
   ]
  },
  {
   "cell_type": "code",
   "execution_count": 1,
   "metadata": {},
   "outputs": [
    {
     "name": "stdout",
     "output_type": "stream",
     "text": [
      "<class 'int'>\n",
      "<class 'bool'>\n"
     ]
    }
   ],
   "source": [
    "from lxml import objectify\n",
    "import pandas as pd\n",
    "from distutils import util\n",
    "\n",
    "xml = objectify.parse(open('XMLData.xml'))\n",
    "root = xml.getroot()\n",
    "df = pd.DataFrame(columns=('Number', 'Boolean'))\n",
    "\n",
    "for i in range(0, 4):\n",
    "    obj = root.getchildren()[i].getchildren()\n",
    "    row = dict(zip(['Number', 'Boolean'], \n",
    "                   [obj[0].pyval, \n",
    "                    bool(util.strtobool(obj[2].text))]))\n",
    "    row_s = pd.Series(row)\n",
    "    row_s.name = obj[1].text\n",
    "    df = df.append(row_s)\n",
    "    \n",
    "print(type(df.loc['Primo']['Number']))\n",
    "print(type(df.loc['Primo']['Boolean']))"
   ]
  },
  {
   "cell_type": "markdown",
   "metadata": {},
   "source": [
    "## Extraction de données avec XPath"
   ]
  },
  {
   "cell_type": "code",
   "execution_count": 2,
   "metadata": {},
   "outputs": [
    {
     "name": "stdout",
     "output_type": "stream",
     "text": [
      "         Number  Boolean\n",
      "Primo         1     True\n",
      "Secundo       2    False\n",
      "Tercio        3     True\n",
      "Quarto        4    False\n",
      "<class 'numpy.int64'>\n",
      "<class 'numpy.bool_'>\n"
     ]
    }
   ],
   "source": [
    "from lxml import objectify\n",
    "import pandas as pd\n",
    "from distutils import util\n",
    "\n",
    "xml = objectify.parse(open('XMLData.xml'))\n",
    "root = xml.getroot()\n",
    "\n",
    "map_number = map(int, root.xpath('Record/Number'))\n",
    "map_bool = map(str, root.xpath('Record/Boolean'))\n",
    "map_bool = map(util.strtobool, map_bool)\n",
    "map_bool = map(bool, map_bool)\n",
    "map_string = map(str, root.xpath('Record/String'))\n",
    "\n",
    "data = list(zip(map_number, map_bool))\n",
    "\n",
    "df = pd.DataFrame(data, \n",
    "                  columns=('Number', 'Boolean'), \n",
    "                  index = list(map_string))\n",
    "\n",
    "print(df)\n",
    "print(type(df.loc['Primo']['Number']))\n",
    "print(type(df.loc['Primo']['Boolean']))"
   ]
  },
  {
   "cell_type": "markdown",
   "metadata": {},
   "source": [
    "# Épuration de fichiers texte bruts"
   ]
  },
  {
   "cell_type": "markdown",
   "metadata": {},
   "source": [
    "## Racinisation et suppression des mots vides"
   ]
  },
  {
   "cell_type": "code",
   "execution_count": 3,
   "metadata": {},
   "outputs": [
    {
     "name": "stdout",
     "output_type": "stream",
     "text": [
      "['love', 'sam', 'swim', 'time']\n",
      "[[1 0 1 0]]\n"
     ]
    }
   ],
   "source": [
    "from sklearn.feature_extraction.text import * \n",
    "from nltk import word_tokenize          \n",
    "from nltk.stem.porter import PorterStemmer\n",
    "\n",
    "stemmer = PorterStemmer()\n",
    "\n",
    "def stem_tokens(tokens, stemmer):\n",
    "    stemmed = []\n",
    "    for item in tokens:\n",
    "        stemmed.append(stemmer.stem(item))\n",
    "    return stemmed\n",
    "\n",
    "def tokenize(text):\n",
    "    tokens = word_tokenize(text)\n",
    "    stems = stem_tokens(tokens, stemmer)\n",
    "    return stems\n",
    "\n",
    "vocab = ['Sam loves swimming so he swims all the time']\n",
    "vect = CountVectorizer(tokenizer=tokenize, \n",
    "                           stop_words='english')\n",
    "vec = vect.fit(vocab)\n",
    "\n",
    "sentence1 = vec.transform(['George loves swimming too!'])\n",
    "\n",
    "print(vec.get_feature_names())\n",
    "print(sentence1.toarray())"
   ]
  },
  {
   "cell_type": "markdown",
   "metadata": {},
   "source": [
    "## N.d.T. : Le même en français"
   ]
  },
  {
   "cell_type": "code",
   "execution_count": 4,
   "metadata": {},
   "outputs": [
    {
     "name": "stdout",
     "output_type": "stream",
     "text": [
      "['ador', 'nage', 'nager', 'rivièr', 'simon']\n",
      "[[1 0 1 0 0]]\n"
     ]
    }
   ],
   "source": [
    "from sklearn.feature_extraction.text import * \n",
    "from nltk import word_tokenize          \n",
    "from nltk.stem.porter import PorterStemmer\n",
    "from nltk.corpus import stopwords       # NOUVEAU\n",
    "\n",
    "stemmer = PorterStemmer()\n",
    "\n",
    "def stem_tokens(tokens, stemmer):\n",
    "    stemmed = []\n",
    "    for item in tokens:\n",
    "        stemmed.append(stemmer.stem(item))\n",
    "    return stemmed\n",
    "\n",
    "def tokenize(text):\n",
    "    tokens = word_tokenize(text)\n",
    "    stems = stem_tokens(tokens, stemmer)\n",
    "    return stems\n",
    "\n",
    "fliste = set(stopwords.words('french')) # NOUVEAU\n",
    "\n",
    "vocab = ['Simon adore nager et nage en rivière']\n",
    "vect = CountVectorizer(tokenizer=tokenize, analyzer='word', stop_words=fliste) # MODIF\n",
    "vec = vect.fit(vocab)\n",
    "\n",
    "sentence1 = vec.transform(['Leonard adore nager aussi !'])\n",
    "\n",
    "print(vec.get_feature_names())\n",
    "print(sentence1.toarray())"
   ]
  },
  {
   "cell_type": "markdown",
   "metadata": {},
   "source": [
    "## Expressions régulières"
   ]
  },
  {
   "cell_type": "code",
   "execution_count": 5,
   "metadata": {},
   "outputs": [
    {
     "name": "stdout",
     "output_type": "stream",
     "text": [
      "('800', '555', '1212')\n",
      "('800', '555', '1234')\n"
     ]
    }
   ],
   "source": [
    "import re\n",
    "\n",
    "data1 = 'Mon numéro est le 800-555-1212.'\n",
    "data2 = '800-555-1234 est mon téléphone perso.'\n",
    "\n",
    "pattern = re.compile(r'(\\d{3})-(\\d{3})-(\\d{4})')\n",
    "\n",
    "dmatch1 = pattern.search(data1).groups()\n",
    "dmatch2 = pattern.search(data2).groups()\n",
    "\n",
    "print(dmatch1)\n",
    "print(dmatch2)"
   ]
  },
  {
   "cell_type": "markdown",
   "metadata": {},
   "source": [
    "## Le même en français"
   ]
  },
  {
   "cell_type": "code",
   "execution_count": 6,
   "metadata": {},
   "outputs": [
    {
     "name": "stdout",
     "output_type": "stream",
     "text": [
      "('07', '12', '34', '56', '78')\n",
      "('07', '12', '34', '56', '78')\n"
     ]
    }
   ],
   "source": [
    "import re\n",
    "\n",
    "data1 = 'Mon numéro est le 07-12-34-56-78.'\n",
    "data2 = '07-12-34-56-78 est mon téléphone perso.'\n",
    "\n",
    "pattern = re.compile(r'(\\d{2})-(\\d{2})-(\\d{2})-(\\d{2})-(\\d{2})')\n",
    "\n",
    "dmatch1 = pattern.search(data1).groups()\n",
    "dmatch2 = pattern.search(data2).groups()\n",
    "\n",
    "print(dmatch1)\n",
    "print(dmatch2)"
   ]
  },
  {
   "cell_type": "markdown",
   "metadata": {},
   "source": [
    "# Sacs de mots et analyse lexicale"
   ]
  },
  {
   "cell_type": "markdown",
   "metadata": {},
   "source": [
    "## Principe du sac de mots"
   ]
  },
  {
   "cell_type": "code",
   "execution_count": 7,
   "metadata": {},
   "outputs": [
    {
     "name": "stdout",
     "output_type": "stream",
     "text": [
      "Profil BOW: (2356, 34750)\n",
      "\"Caltech\": 3\n"
     ]
    }
   ],
   "source": [
    "from sklearn.datasets import fetch_20newsgroups\n",
    "from sklearn.feature_extraction.text import *\n",
    "\n",
    "categories = ['comp.graphics', 'misc.forsale', \n",
    "              'rec.autos', 'sci.space']\n",
    "twenty_train = fetch_20newsgroups(subset='train',\n",
    "                                  categories=categories, \n",
    "                                  shuffle=True, \n",
    "                                  random_state=42)\n",
    "\n",
    "count_vect = CountVectorizer()\n",
    "X_train_counts = count_vect.fit_transform(\n",
    "    twenty_train.data)\n",
    "\n",
    "print(\"Profil BOW:\", X_train_counts.shape)\n",
    "caltech_idx = count_vect.vocabulary_['caltech']\n",
    "print('\"Caltech\": %i' % X_train_counts[0, caltech_idx]) "
   ]
  },
  {
   "cell_type": "markdown",
   "metadata": {},
   "source": [
    "## Utilisation des N-grammes"
   ]
  },
  {
   "cell_type": "code",
   "execution_count": 8,
   "metadata": {},
   "outputs": [
    {
     "name": "stdout",
     "output_type": "stream",
     "text": [
      "['anonymous ftp', 'commercial space', 'gamma ray', 'nasa gov', 'national space', 'remote sensing', 'sci space', 'space shuttle', 'space station', 'washington dc']\n",
      "[[0 0 2 5 1 4 2 2 0 5]]\n",
      "['anonymous ftp', 'commercial space', 'gamma ray', 'nasa gov', 'national space', 'remote sensing', 'sci space', 'space shuttle', 'space station', 'washington dc']\n"
     ]
    }
   ],
   "source": [
    "from sklearn.datasets import fetch_20newsgroups\n",
    "from sklearn.feature_extraction.text import *\n",
    "\n",
    "categories = ['sci.space']\n",
    "\n",
    "twenty_train = fetch_20newsgroups(subset='train', \n",
    "                                  categories=categories, \n",
    "                                  remove=('headers', \n",
    "                                          'footers', \n",
    "                                          'quotes'),\n",
    "                                  shuffle=True, \n",
    "                                  random_state=42)\n",
    "\n",
    "count_chars = CountVectorizer(analyzer='char_wb', \n",
    "                              ngram_range=(3,3), \n",
    "                              max_features=10)\n",
    "\n",
    "count_chars.fit(twenty_train['data'])\n",
    "\n",
    "count_words = CountVectorizer(analyzer='word', \n",
    "                              ngram_range=(2,2),\n",
    "                              max_features=10,\n",
    "                              stop_words='english')\n",
    "\n",
    "count_words.fit(twenty_train['data'])\n",
    "\n",
    "X = count_chars.transform(twenty_train.data)\n",
    "\n",
    "print(count_words.get_feature_names())\n",
    "print(X[1].todense())\n",
    "print(count_words.get_feature_names())"
   ]
  },
  {
   "cell_type": "markdown",
   "metadata": {},
   "source": [
    "## Transformations TF-IDF"
   ]
  },
  {
   "cell_type": "code",
   "execution_count": 9,
   "metadata": {},
   "outputs": [
    {
     "name": "stdout",
     "output_type": "stream",
     "text": [
      "Score de \"Caltech\" dans un BOW:\n",
      "count: 3.000\n",
      "TF-IDF: 0.123\n"
     ]
    }
   ],
   "source": [
    "from sklearn.datasets import fetch_20newsgroups\n",
    "from sklearn.feature_extraction.text import *\n",
    "\n",
    "categories = ['comp.graphics', 'misc.forsale', \n",
    "              'rec.autos', 'sci.space']\n",
    "twenty_train = fetch_20newsgroups(subset='train',\n",
    "                                  categories=categories, \n",
    "                                  shuffle=True, \n",
    "                                  random_state=42)\n",
    "\n",
    "count_vect = CountVectorizer()\n",
    "X_train_counts = count_vect.fit_transform(\n",
    "    twenty_train.data)\n",
    "\n",
    "tfidf = TfidfTransformer().fit(X_train_counts)\n",
    "X_train_tfidf = tfidf.transform(X_train_counts)\n",
    "\n",
    "caltech_idx = count_vect.vocabulary_['caltech']\n",
    "print('Score de \"Caltech\" dans un BOW:')\n",
    "print('count: %0.3f' % X_train_counts[0, caltech_idx])\n",
    "print('TF-IDF: %0.3f' % X_train_tfidf[0, caltech_idx])"
   ]
  },
  {
   "cell_type": "code",
   "execution_count": 10,
   "metadata": {},
   "outputs": [
    {
     "name": "stdout",
     "output_type": "stream",
     "text": [
      "moyenne de count: 1.698\n",
      "moyenne de TF-IDF: 0.064\n"
     ]
    }
   ],
   "source": [
    "import numpy as np\n",
    "count = np.mean(X_train_counts[X_train_counts>0])\n",
    "tfif = np.mean(X_train_tfidf[X_train_tfidf>0])\n",
    "print('moyenne de count: %0.3f' % np.mean(count))\n",
    "print('moyenne de TF-IDF: %0.3f' % np.mean(tfif))"
   ]
  },
  {
   "cell_type": "markdown",
   "metadata": {},
   "source": [
    "# Traitement de donnés graphiques"
   ]
  },
  {
   "cell_type": "markdown",
   "metadata": {},
   "source": [
    "## Découverte de NetworkX"
   ]
  },
  {
   "cell_type": "code",
   "execution_count": 11,
   "metadata": {},
   "outputs": [
    {
     "name": "stdout",
     "output_type": "stream",
     "text": [
      "[[0 1 0 0 0 0 0 0 0 1]\n",
      " [1 0 1 0 0 0 0 0 0 0]\n",
      " [0 1 0 1 0 0 0 0 0 0]\n",
      " [0 0 1 0 1 0 0 0 0 0]\n",
      " [0 0 0 1 0 1 0 0 0 0]\n",
      " [0 0 0 0 1 0 1 0 0 0]\n",
      " [0 0 0 0 0 1 0 1 0 0]\n",
      " [0 0 0 0 0 0 1 0 1 0]\n",
      " [0 0 0 0 0 0 0 1 0 1]\n",
      " [1 0 0 0 0 0 0 0 1 0]]\n"
     ]
    }
   ],
   "source": [
    "import networkx as nx\n",
    "\n",
    "G = nx.cycle_graph(10)\n",
    "A = nx.adjacency_matrix(G)\n",
    "\n",
    "print(A.todense())"
   ]
  },
  {
   "cell_type": "code",
   "execution_count": 12,
   "metadata": {},
   "outputs": [
    {
     "data": {
      "image/png": "[encoded data removed]",
      "text/plain": [
       "<Figure size 432x288 with 1 Axes>"
      ]
     },
     "metadata": {},
     "output_type": "display_data"
    }
   ],
   "source": [
    "import matplotlib.pyplot as plt\n",
    "%matplotlib inline\n",
    "nx.draw_networkx(G)\n",
    "plt.show()"
   ]
  },
  {
   "cell_type": "code",
   "execution_count": 13,
   "metadata": {},
   "outputs": [
    {
     "data": {
      "image/png": "[encoded data removed]",
      "text/plain": [
       "<Figure size 432x288 with 1 Axes>"
      ]
     },
     "metadata": {},
     "output_type": "display_data"
    }
   ],
   "source": [
    "G.add_edge(1,5)\n",
    "nx.draw_networkx(G)\n",
    "plt.show()"
   ]
  },
  {
   "cell_type": "code",
   "execution_count": null,
   "metadata": {},
   "outputs": [],
   "source": []
  }
 ],
 "metadata": {
  "kernelspec": {
   "display_name": "Python 3",
   "language": "python",
   "name": "python3"
  },
  "language_info": {
   "codemirror_mode": {
    "name": "ipython",
    "version": 3
   },
   "file_extension": ".py",
   "mimetype": "text/x-python",
   "name": "python",
   "nbconvert_exporter": "python",
   "pygments_lexer": "ipython3",
   "version": "3.6.5"
  }
 },
 "nbformat": 4,
 "nbformat_minor": 2
}
