{
 "cells": [
  {
   "cell_type": "markdown",
   "metadata": {},
   "source": [
    "# Décomposition en valeurs singulières SVD (Chap 14)"
   ]
  },
  {
   "cell_type": "markdown",
   "metadata": {},
   "source": [
    "## Pratique de la réduction de dimensions"
   ]
  },
  {
   "cell_type": "code",
   "execution_count": 1,
   "metadata": {},
   "outputs": [
    {
     "name": "stdout",
     "output_type": "stream",
     "text": [
      "[[1 3 4]\n",
      " [2 3 5]\n",
      " [1 2 3]\n",
      " [5 4 6]]\n"
     ]
    }
   ],
   "source": [
    "import numpy as np\n",
    "A = np.array([[1, 3, 4], [2, 3, 5], [1, 2, 3], [5, 4, 6]])\n",
    "print(A)"
   ]
  },
  {
   "cell_type": "code",
   "execution_count": 2,
   "metadata": {},
   "outputs": [
    {
     "name": "stdout",
     "output_type": "stream",
     "text": [
      "(4, 3) (3,) (3, 3)\n",
      "[12.26362747  2.11085464  0.38436189]\n"
     ]
    }
   ],
   "source": [
    "U, s, Vh = np.linalg.svd(A, full_matrices=False)\n",
    "print(np.shape(U), np.shape(s), np.shape(Vh))\n",
    "print(s)"
   ]
  },
  {
   "cell_type": "code",
   "execution_count": 3,
   "metadata": {},
   "outputs": [
    {
     "name": "stdout",
     "output_type": "stream",
     "text": [
      "[[1. 3. 4.]\n",
      " [2. 3. 5.]\n",
      " [1. 2. 3.]\n",
      " [5. 4. 6.]]\n"
     ]
    }
   ],
   "source": [
    "print(np.dot(np.dot(U, np.diag(s)), Vh)) # Reconstruction de matrice"
   ]
  },
  {
   "cell_type": "code",
   "execution_count": 4,
   "metadata": {},
   "outputs": [
    {
     "name": "stdout",
     "output_type": "stream",
     "text": [
      "[[1.  2.8 4.1]\n",
      " [2.  3.2 4.8]\n",
      " [1.  2.  3. ]\n",
      " [5.  3.9 6. ]]\n"
     ]
    }
   ],
   "source": [
    "print(np.round(np.dot(np.dot(U[:,:2], np.diag(s[:2])),\n",
    "                      Vh[:2,:]),1)) # reconstruction k=2 "
   ]
  },
  {
   "cell_type": "code",
   "execution_count": 5,
   "metadata": {},
   "outputs": [
    {
     "name": "stdout",
     "output_type": "stream",
     "text": [
      "[[2.1 2.5 3.7]\n",
      " [2.6 3.1 4.6]\n",
      " [1.6 1.8 2.8]\n",
      " [3.7 4.3 6.5]]\n"
     ]
    }
   ],
   "source": [
    "print(np.round(np.dot(np.dot(U[:,:1], np.diag(s[:1])), \n",
    "                      Vh[:1,:]),1)) # reconstruction k=1 "
   ]
  },
  {
   "cell_type": "markdown",
   "metadata": {},
   "source": [
    "# Analyse de facteurs et PCA"
   ]
  },
  {
   "cell_type": "markdown",
   "metadata": {},
   "source": [
    "## Recherche des facteurs cachés"
   ]
  },
  {
   "cell_type": "code",
   "execution_count": 6,
   "metadata": {},
   "outputs": [],
   "source": [
    "from sklearn.datasets import load_iris\n",
    "from sklearn.decomposition import FactorAnalysis\n",
    "iris = load_iris()\n",
    "X = iris.data\n",
    "Y = iris.target\n",
    "cols = [s[:12].strip() for s in iris.feature_names]\n",
    "factor = FactorAnalysis(n_components=4).fit(X)"
   ]
  },
  {
   "cell_type": "code",
   "execution_count": 7,
   "metadata": {},
   "outputs": [
    {
     "name": "stdout",
     "output_type": "stream",
     "text": [
      "   sepal length  sepal width  petal length  petal width\n",
      "0      0.707227    -0.153147      1.653151     0.701569\n",
      "1      0.114676     0.159763     -0.045604    -0.014052\n",
      "2     -0.000000     0.000000      0.000000     0.000000\n",
      "3     -0.000000     0.000000      0.000000    -0.000000\n"
     ]
    }
   ],
   "source": [
    "import pandas as pd\n",
    "print(pd.DataFrame(factor.components_, columns=cols))"
   ]
  },
  {
   "cell_type": "markdown",
   "metadata": {},
   "source": [
    "## Obtention d'une réduction de dimension"
   ]
  },
  {
   "cell_type": "code",
   "execution_count": 8,
   "metadata": {},
   "outputs": [
    {
     "name": "stdout",
     "output_type": "stream",
     "text": [
      "Variance expliquée par composante: [0.92461621 0.05301557 0.01718514 0.00518309]\n",
      "   sepal length  sepal width  petal length  petal width\n",
      "0      0.361590    -0.082269      0.856572     0.358844\n",
      "1      0.656540     0.729712     -0.175767    -0.074706\n",
      "2     -0.580997     0.596418      0.072524     0.549061\n",
      "3      0.317255    -0.324094     -0.479719     0.751121\n"
     ]
    }
   ],
   "source": [
    "from sklearn.decomposition import PCA\n",
    "import pandas as pd\n",
    "pca = PCA().fit(X)\n",
    "print('Variance expliquée par composante: %s' \n",
    "      % pca.explained_variance_ratio_)\n",
    "print(pd.DataFrame(pca.components_, columns=cols))"
   ]
  },
  {
   "cell_type": "markdown",
   "metadata": {},
   "source": [
    "## Extraction d'informations avec t-SNE"
   ]
  },
  {
   "cell_type": "code",
   "execution_count": 9,
   "metadata": {},
   "outputs": [],
   "source": [
    "from sklearn.datasets import load_digits\n",
    "digits = load_digits()\n",
    "X = digits.data\n",
    "ground_truth = digits.target\n",
    "\n",
    "from sklearn.manifold import TSNE\n",
    "tsne = TSNE(n_components=2, \n",
    "            init='pca', \n",
    "            random_state=0,\n",
    "            perplexity=50, \n",
    "            early_exaggeration=25,\n",
    "            n_iter=300)\n",
    "Tx = tsne.fit_transform(X)"
   ]
  },
  {
   "cell_type": "code",
   "execution_count": 10,
   "metadata": {},
   "outputs": [
    {
     "data": {
      "image/png": "[encoded data removed]",
      "text/plain": [
       "<Figure size 432x288 with 1 Axes>"
      ]
     },
     "metadata": {},
     "output_type": "display_data"
    }
   ],
   "source": [
    "import numpy as np\n",
    "import matplotlib.pyplot as plt\n",
    "%matplotlib inline\n",
    "plt.xticks([], [])\n",
    "plt.yticks([], [])\n",
    "for target in np.unique(ground_truth):\n",
    "    selection = ground_truth==target\n",
    "    X1, X2 = Tx[selection, 0], Tx[selection, 1]\n",
    "    c1, c2 = np.median(X1), np.median(X2)\n",
    "    plt.plot(X1, X2, 'o', ms=5)\n",
    "    plt.text(c1, c2, target, fontsize=18)"
   ]
  },
  {
   "cell_type": "markdown",
   "metadata": {},
   "source": [
    "# Quelques applications de décomposition"
   ]
  },
  {
   "cell_type": "markdown",
   "metadata": {},
   "source": [
    "## Reconnaissance de visages par analyse PCA"
   ]
  },
  {
   "cell_type": "code",
   "execution_count": 11,
   "metadata": {},
   "outputs": [],
   "source": [
    "from sklearn.datasets import fetch_olivetti_faces\n",
    "dataset = fetch_olivetti_faces(shuffle=True, \n",
    "                               random_state=101)\n",
    "train_faces = dataset.data[:350,:]\n",
    "test_faces  = dataset.data[350:,:]\n",
    "train_answers = dataset.target[:350]\n",
    "test_answers = dataset.target[350:]"
   ]
  },
  {
   "cell_type": "code",
   "execution_count": 12,
   "metadata": {},
   "outputs": [
    {
     "name": "stdout",
     "output_type": "stream",
     "text": [
      "Modified Olivetti faces dataset.\n",
      "\n",
      "The original database was available from\n",
      "\n",
      "    http://www.cl.cam.ac.uk/research/dtg/attarchive/facedatabase.html\n",
      "\n",
      "The version retrieved here comes in MATLAB format from the personal\n",
      "web page of Sam Roweis:\n",
      "\n",
      "    http://www.cs.nyu.edu/~roweis/\n",
      "\n",
      "There are ten different images of each of 40 distinct subjects. For some\n",
      "subjects, the images were taken at different times, varying the lighting,\n",
      "facial expressions (open / closed eyes, smiling / not smiling) and facial\n",
      "details (glasses / no glasses). All the images were taken against a dark\n",
      "homogeneous background with the subjects in an upright, frontal position (with\n",
      "tolerance for some side movement).\n",
      "\n",
      "The original dataset consisted of 92 x 112, while the Roweis version\n",
      "consists of 64x64 images.\n",
      "\n"
     ]
    }
   ],
   "source": [
    "print(dataset.DESCR)"
   ]
  },
  {
   "cell_type": "code",
   "execution_count": 13,
   "metadata": {},
   "outputs": [
    {
     "name": "stdout",
     "output_type": "stream",
     "text": [
      "Variance expliquée par 25 composantes: 0.794\n"
     ]
    }
   ],
   "source": [
    "from sklearn.decomposition import RandomizedPCA\n",
    "n_components = 25\n",
    "Rpca = PCA(svd_solver='randomized', \n",
    "           n_components=n_components, \n",
    "           whiten=True)\n",
    "Rpca.fit(train_faces)\n",
    "print('Variance expliquée par %i composantes: %0.3f' \n",
    "      % (n_components, np.sum(Rpca.explained_variance_ratio_)))\n",
    "compressed_train_faces = Rpca.transform(train_faces)\n",
    "compressed_test_faces  = Rpca.transform(test_faces)"
   ]
  },
  {
   "cell_type": "code",
   "execution_count": 14,
   "metadata": {
    "scrolled": true
   },
   "outputs": [
    {
     "name": "stdout",
     "output_type": "stream",
     "text": [
      "La personne représentée est le sujet 34\n"
     ]
    },
    {
     "data": {
      "image/png": "[encoded data removed]",
      "text/plain": [
       "<Figure size 432x288 with 1 Axes>"
      ]
     },
     "metadata": {},
     "output_type": "display_data"
    }
   ],
   "source": [
    "import matplotlib.pyplot as plt\n",
    "%matplotlib inline\n",
    "\n",
    "photo = 17\n",
    "print('La personne représentée est le sujet %i' \n",
    "      % test_answers[photo])\n",
    "plt.subplot(1, 2, 1)\n",
    "plt.axis('off')\n",
    "plt.title('Photo '+str(photo)+' inconnue dans le jeu de test')\n",
    "plt.imshow(test_faces[photo].reshape(64,64), \n",
    "           cmap=plt.cm.gray, interpolation='nearest')\n",
    "plt.show()"
   ]
  },
  {
   "cell_type": "code",
   "execution_count": 15,
   "metadata": {},
   "outputs": [
    {
     "name": "stdout",
     "output_type": "stream",
     "text": [
      "Sujet le plus ressemblant dans le jeu d'entraînement: 34\n"
     ]
    }
   ],
   "source": [
    "mask = compressed_test_faces[photo,] \n",
    "squared_errors = np.sum((compressed_train_faces - mask)**2,\n",
    "                         axis=1)\n",
    "minimum_error_face = np.argmin(squared_errors)\n",
    "most_resembling = list(np.where(squared_errors < 20)[0])\n",
    "print(\"Sujet le plus ressemblant dans le jeu d'entraînement: %i\" \n",
    "      % train_answers[minimum_error_face])"
   ]
  },
  {
   "cell_type": "code",
   "execution_count": 16,
   "metadata": {},
   "outputs": [
    {
     "data": {
      "image/png": "[encoded data removed]",
      "text/plain": [
       "<Figure size 432x288 with 4 Axes>"
      ]
     },
     "metadata": {},
     "output_type": "display_data"
    }
   ],
   "source": [
    "import matplotlib.pyplot as plt\n",
    "plt.subplot(2, 2, 1)\n",
    "plt.axis('off')\n",
    "plt.title('Visage '+str(photo)+' inconnu à tester')\n",
    "plt.imshow(test_faces[photo].reshape(64, 64), \n",
    "           cmap=plt.cm.gray, \n",
    "           interpolation='nearest')\n",
    "for k,m in enumerate(most_resembling[:3]):\n",
    "    plt.subplot(2, 2, 2+k)\n",
    "    plt.title('Visage connu similaire '+str(m))\n",
    "    plt.axis('off')\n",
    "    plt.imshow(train_faces[m].reshape(64, 64), \n",
    "               cmap=plt.cm.gray, \n",
    "               interpolation='nearest')\n",
    "plt.show()"
   ]
  },
  {
   "cell_type": "markdown",
   "metadata": {},
   "source": [
    "## Extraction de sujets par factorisation NMF"
   ]
  },
  {
   "cell_type": "code",
   "execution_count": 17,
   "metadata": {},
   "outputs": [
    {
     "name": "stdout",
     "output_type": "stream",
     "text": [
      "Posts: 585\n"
     ]
    }
   ],
   "source": [
    "from sklearn.datasets import fetch_20newsgroups\n",
    "dataset = fetch_20newsgroups(shuffle=True, \n",
    "                             categories = ['misc.forsale'], \n",
    "                             remove=('headers', 'footers', 'quotes'), \n",
    "                             random_state=101)\n",
    "print('Posts: %i' % len(dataset.data))"
   ]
  },
  {
   "cell_type": "code",
   "execution_count": 18,
   "metadata": {},
   "outputs": [],
   "source": [
    "from sklearn.feature_extraction.text import TfidfVectorizer\n",
    "from sklearn.decomposition import NMF\n",
    "\n",
    "vectorizer = TfidfVectorizer(max_df=0.95, min_df=2, \n",
    "                             stop_words='english')\n",
    "tfidf = vectorizer.fit_transform(dataset.data)\n",
    "\n",
    "n_topics = 5\n",
    "nmf = NMF(n_components=n_topics, \n",
    "          random_state=101).fit(tfidf)"
   ]
  },
  {
   "cell_type": "code",
   "execution_count": 19,
   "metadata": {},
   "outputs": [
    {
     "name": "stdout",
     "output_type": "stream",
     "text": [
      "Topic #1:\n",
      "condition excellent asking offer best car old new sale 10 miles 000 tape cd power\n",
      "Topic #2:\n",
      "00 50 dos 20 10 15 cover 1st new 25 price man 40 shipping comics\n",
      "Topic #3:\n",
      "drive hard card floppy monitor meg ram disk motherboard vga modem brand scsi color internal\n",
      "Topic #4:\n",
      "email looking game games send interested mail thanks like edu good want package price list\n",
      "Topic #5:\n",
      "shipping vcr works stereo obo included amp plus great volume unc mathes gibbs radley remotes\n"
     ]
    }
   ],
   "source": [
    "feature_names = vectorizer.get_feature_names()\n",
    "n_top_words = 15\n",
    "for topic_idx, topic in enumerate(nmf.components_):\n",
    "    print('Topic #%d:' % (topic_idx+1),)\n",
    "    topics = topic.argsort()[:-n_top_words - 1:-1]\n",
    "    print(' '.join([feature_names[i] for i in topics]))"
   ]
  },
  {
   "cell_type": "code",
   "execution_count": 20,
   "metadata": {},
   "outputs": [
    {
     "name": "stdout",
     "output_type": "stream",
     "text": [
      "[1075 1459  632 2463  740  888 2476 2415 2987   10 2305    1 3349  923\n",
      " 2680]\n"
     ]
    }
   ],
   "source": [
    "print(nmf.components_[0,:].argsort()[:-n_top_words-1:-1])"
   ]
  },
  {
   "cell_type": "code",
   "execution_count": 21,
   "metadata": {},
   "outputs": [
    {
     "name": "stdout",
     "output_type": "stream",
     "text": [
      "condition\n"
     ]
    }
   ],
   "source": [
    "word_index = 1075\n",
    "print(vectorizer.get_feature_names()[word_index])"
   ]
  },
  {
   "cell_type": "markdown",
   "metadata": {},
   "source": [
    "## Suggestions cinématographiques"
   ]
  },
  {
   "cell_type": "markdown",
   "metadata": {},
   "source": [
    "Important : Installez d'abord les fichiers de cinéma situés ici :\n",
    "http://files.grouplens.org/datasets/movielens/ml-1m.zip\n",
    "en tenant compte des explications du livre."
   ]
  },
  {
   "cell_type": "code",
   "execution_count": 24,
   "metadata": {},
   "outputs": [
    {
     "name": "stdout",
     "output_type": "stream",
     "text": [
      "C:\\Users\\MonNom\\PYDASC\n",
      "C:\\Users\\MonNom\\PYDASC\n"
     ]
    }
   ],
   "source": [
    "import os\n",
    "print(os.getcwd())\n",
    "os.chdir(\".\")          # Si vous avez besoin d'en changer ££\n",
    "print(os.getcwd())"
   ]
  },
  {
   "cell_type": "code",
   "execution_count": 25,
   "metadata": {},
   "outputs": [],
   "source": [
    "import pandas as pd\n",
    "from scipy.sparse import csr_matrix\n",
    "users = pd.read_table('ml-1m/users.dat', sep='::', \n",
    "        header=None, names=['user_id', 'gender', \n",
    "        'age', 'occupation', 'zip'], engine='python')\n",
    "ratings = pd.read_table('ml-1m/ratings.dat', sep='::', \n",
    "          header=None, names=['user_id', 'movie_id', \n",
    "          'rating', 'timestamp'], engine='python')\n",
    "movies = pd.read_table('ml-1m/movies.dat', sep='::', \n",
    "         header=None, names=['movie_id', 'title', \n",
    "         'genres'], engine='python')\n",
    "MovieLens = pd.merge(pd.merge(ratings, users), movies)"
   ]
  },
  {
   "cell_type": "code",
   "execution_count": 26,
   "metadata": {},
   "outputs": [],
   "source": [
    "ratings_mtx_df = MovieLens.pivot_table(values='rating', \n",
    "        index='user_id', columns='title', fill_value=0)\n",
    "movie_index = ratings_mtx_df.columns"
   ]
  },
  {
   "cell_type": "code",
   "execution_count": 27,
   "metadata": {},
   "outputs": [],
   "source": [
    "from sklearn.decomposition import TruncatedSVD\n",
    "recom = TruncatedSVD(n_components=15, random_state=101)\n",
    "R = recom.fit_transform(ratings_mtx_df.values.T)"
   ]
  },
  {
   "cell_type": "code",
   "execution_count": 28,
   "metadata": {},
   "outputs": [
    {
     "name": "stdout",
     "output_type": "stream",
     "text": [
      "movie index: 3154\n",
      "[184.72254552 -17.77612872  47.33450866  51.4664494   47.92058216\n",
      "  17.65033116  14.3574635  -12.82219207  17.51347857   5.46888807\n",
      "   7.5430805   -0.57117869 -30.74032355   2.4088565  -22.50368497]\n"
     ]
    }
   ],
   "source": [
    "movie = 'Star Wars: Episode V - The Empire Strikes Back (1980)'\n",
    "movie_idx = list(movie_index).index(movie)\n",
    "print(\"movie index: %i\" %movie_idx)\n",
    "print(R[movie_idx])"
   ]
  },
  {
   "cell_type": "code",
   "execution_count": 29,
   "metadata": {},
   "outputs": [
    {
     "name": "stdout",
     "output_type": "stream",
     "text": [
      "['Raiders of the Lost Ark (1981)', 'Star Wars: Episode IV - A New Hope (1977)', 'Star Wars: Episode VI - Return of the Jedi (1983)', 'Terminator, The (1984)']\n"
     ]
    }
   ],
   "source": [
    "import numpy as np\n",
    "correlation_matrix = np.corrcoef(R)\n",
    "P = correlation_matrix[movie_idx]\n",
    "print(list(movie_index[(P > 0.95) & (P < 1.0)]))"
   ]
  },
  {
   "cell_type": "code",
   "execution_count": null,
   "metadata": {},
   "outputs": [],
   "source": []
  }
 ],
 "metadata": {
  "kernelspec": {
   "display_name": "Python 3",
   "language": "python",
   "name": "python3"
  },
  "language_info": {
   "codemirror_mode": {
    "name": "ipython",
    "version": 3
   },
   "file_extension": ".py",
   "mimetype": "text/x-python",
   "name": "python",
   "nbconvert_exporter": "python",
   "pygments_lexer": "ipython3",
   "version": "3.6.5"
  }
 },
 "nbformat": 4,
 "nbformat_minor": 1
}
