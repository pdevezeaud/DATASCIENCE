{
 "cells": [
  {
   "cell_type": "markdown",
   "metadata": {},
   "source": [
    "# Régression linéaire et recherche de chiffres (Chap 17)"
   ]
  },
  {
   "cell_type": "markdown",
   "metadata": {},
   "source": [
    "## Utilisation de plusieurs variables (régression multiple)"
   ]
  },
  {
   "cell_type": "code",
   "execution_count": 1,
   "metadata": {},
   "outputs": [],
   "source": [
    "from sklearn.datasets import load_boston\n",
    "from sklearn.preprocessing import scale\n",
    "boston = load_boston()\n",
    "X = scale(boston.data)\n",
    "y = boston.target"
   ]
  },
  {
   "cell_type": "code",
   "execution_count": 2,
   "metadata": {},
   "outputs": [
    {
     "data": {
      "text/plain": [
       "LinearRegression(copy_X=True, fit_intercept=True, n_jobs=1, normalize=True)"
      ]
     },
     "execution_count": 2,
     "metadata": {},
     "output_type": "execute_result"
    }
   ],
   "source": [
    "from sklearn.linear_model import LinearRegression\n",
    "regression = LinearRegression(normalize=True)\n",
    "regression.fit(X, y)"
   ]
  },
  {
   "cell_type": "code",
   "execution_count": 3,
   "metadata": {},
   "outputs": [
    {
     "name": "stdout",
     "output_type": "stream",
     "text": [
      "0.7406077428649428\n"
     ]
    }
   ],
   "source": [
    "print(regression.score(X, y))"
   ]
  },
  {
   "cell_type": "code",
   "execution_count": 4,
   "metadata": {},
   "outputs": [
    {
     "name": "stdout",
     "output_type": "stream",
     "text": [
      "['CRIM:-0.92', 'ZN:1.08', 'INDUS:0.14', 'CHAS:0.68', 'NOX:-2.06', 'RM:2.67', 'AGE:0.02', 'DIS:-3.1', 'RAD:2.66', 'TAX:-2.08', 'PTRATIO:-2.06', 'B:0.86', 'LSTAT:-3.75']\n"
     ]
    }
   ],
   "source": [
    "print([a + ':' + str(round(b, 2)) for a, b in zip(\n",
    "    boston.feature_names, regression.coef_,)])"
   ]
  },
  {
   "cell_type": "markdown",
   "metadata": {},
   "source": [
    "## Limitations de la régression linéaire"
   ]
  },
  {
   "cell_type": "markdown",
   "metadata": {},
   "source": [
    "# Régressions logistiques et classes"
   ]
  },
  {
   "cell_type": "markdown",
   "metadata": {},
   "source": [
    "## Application d'une régression logistique"
   ]
  },
  {
   "cell_type": "code",
   "execution_count": 5,
   "metadata": {},
   "outputs": [],
   "source": [
    "from sklearn.datasets import load_iris\n",
    "iris = load_iris()\n",
    "X = iris.data[:-1,:]\n",
    "y = iris.target[:-1]"
   ]
  },
  {
   "cell_type": "code",
   "execution_count": 6,
   "metadata": {},
   "outputs": [
    {
     "name": "stdout",
     "output_type": "stream",
     "text": [
      "Classe prédite [2], classe réelle 2\n",
      "Probabilité de chaque classe entre 0 et 2: [[0.00168787 0.28720074 0.71111138]]\n"
     ]
    }
   ],
   "source": [
    "from sklearn.linear_model import LogisticRegression\n",
    "logistic = LogisticRegression()\n",
    "logistic.fit(X, y)\n",
    "single_row_pred = logistic.predict(\n",
    "    iris.data[-1, :].reshape(1, -1))\n",
    "single_row_pred_proba = logistic.predict_proba(\n",
    "    iris.data[-1, :].reshape(1, -1))\n",
    "print ('Classe prédite %s, classe réelle %s' \n",
    "       % (single_row_pred, iris.target[-1]))\n",
    "print ('Probabilité de chaque classe entre 0 et 2: %s' \n",
    "       % single_row_pred_proba)"
   ]
  },
  {
   "cell_type": "markdown",
   "metadata": {},
   "source": [
    "## Stratégies multiclasses"
   ]
  },
  {
   "cell_type": "code",
   "execution_count": 7,
   "metadata": {},
   "outputs": [],
   "source": [
    "from sklearn.datasets import load_digits\n",
    "digits = load_digits()\n",
    "train = range(0, 1700)\n",
    "test = range(1700, len(digits.data))\n",
    "X = digits.data[train]\n",
    "y = digits.target[train]\n",
    "tX = digits.data[test]\n",
    "ty = digits.target[test]"
   ]
  },
  {
   "cell_type": "code",
   "execution_count": 8,
   "metadata": {},
   "outputs": [
    {
     "name": "stdout",
     "output_type": "stream",
     "text": [
      "Précision Une contre Toutes: 0.938\n",
      "Précision Une contre Une: 0.969\n"
     ]
    }
   ],
   "source": [
    "from sklearn.multiclass import OneVsRestClassifier \n",
    "from sklearn.multiclass import OneVsOneClassifier\n",
    "OVR = OneVsRestClassifier(logistic).fit(X, y)\n",
    "OVO = OneVsOneClassifier(logistic).fit(X, y)\n",
    "print('Précision Une contre Toutes: %.3f' % OVR.score(tX, ty))\n",
    "print('Précision Une contre Une: %.3f' % OVO.score(tX, ty))"
   ]
  },
  {
   "cell_type": "markdown",
   "metadata": {},
   "source": [
    "# Algorithme naïf bayésien"
   ]
  },
  {
   "cell_type": "markdown",
   "metadata": {},
   "source": [
    "## Prédiction de classification de textes"
   ]
  },
  {
   "cell_type": "code",
   "execution_count": 9,
   "metadata": {},
   "outputs": [],
   "source": [
    "from sklearn.datasets import fetch_20newsgroups\n",
    "newsgroups_train = fetch_20newsgroups(\n",
    "    subset='train', remove=('headers', 'footers', 'quotes'))\n",
    "newsgroups_test = fetch_20newsgroups(\n",
    "    subset='test', remove=('headers', 'footers', 'quotes'))"
   ]
  },
  {
   "cell_type": "code",
   "execution_count": 10,
   "metadata": {},
   "outputs": [],
   "source": [
    "from sklearn.naive_bayes import BernoulliNB, MultinomialNB\n",
    "Bernoulli = BernoulliNB(alpha=0.01)\n",
    "Multinomial = MultinomialNB(alpha=0.01)"
   ]
  },
  {
   "cell_type": "code",
   "execution_count": 11,
   "metadata": {},
   "outputs": [],
   "source": [
    "import sklearn.feature_extraction.text as txt\n",
    "multinomial = txt.HashingVectorizer(stop_words='english', \n",
    "                                binary=False, norm=None)\n",
    "binary = txt.HashingVectorizer(stop_words='english',\n",
    "                           binary=True, norm=None)"
   ]
  },
  {
   "cell_type": "code",
   "execution_count": 12,
   "metadata": {},
   "outputs": [],
   "source": [
    "import numpy as np\n",
    "target = newsgroups_train.target\n",
    "target_test = newsgroups_test.target\n",
    "multi_X = np.abs(\n",
    "    multinomial.transform(newsgroups_train.data))\n",
    "multi_Xt = np.abs(\n",
    "    multinomial.transform(newsgroups_test.data))\n",
    "bin_X = binary.transform(newsgroups_train.data)\n",
    "bin_Xt = binary.transform(newsgroups_test.data)"
   ]
  },
  {
   "cell_type": "code",
   "execution_count": 13,
   "metadata": {},
   "outputs": [
    {
     "name": "stdout",
     "output_type": "stream",
     "text": [
      "Précision pour BernoulliNB: 0.570\n",
      "Précision pour MultinomialNB: 0.651\n"
     ]
    }
   ],
   "source": [
    "Multinomial.fit(multi_X, target)\n",
    "Bernoulli.fit(bin_X, target)\n",
    "\n",
    "from sklearn.metrics import accuracy_score\n",
    "for name, model, data in [('BernoulliNB', Bernoulli, bin_Xt), \n",
    "                      ('MultinomialNB', Multinomial, multi_Xt)]:\n",
    "    accuracy = accuracy_score(y_true=target_test, \n",
    "                              y_pred=model.predict(data))\n",
    "    print ('Précision pour %s: %.3f' % (name, accuracy))"
   ]
  },
  {
   "cell_type": "code",
   "execution_count": 14,
   "metadata": {},
   "outputs": [
    {
     "name": "stdout",
     "output_type": "stream",
     "text": [
      "Nombre de posts dans entraînement: 11314\n",
      "Nombre de mots différents dans entraînement: 300972\n",
      "Nombre de posts dans test: 7532\n"
     ]
    }
   ],
   "source": [
    "print('Nombre de posts dans entraînement: %i' \n",
    "      % len(newsgroups_train.data))\n",
    "D={word:True for post in newsgroups_train.data \n",
    "   for word in post.split(' ')}\n",
    "print('Nombre de mots différents dans entraînement: %i' \n",
    "      % len(D))\n",
    "print('Nombre de posts dans test: %i' \n",
    "      % len(newsgroups_test.data))"
   ]
  },
  {
   "cell_type": "markdown",
   "metadata": {},
   "source": [
    "# Méthode KNN (k plus proches voisins)"
   ]
  },
  {
   "cell_type": "markdown",
   "metadata": {},
   "source": [
    "## Prédiction après observation du voisinage"
   ]
  },
  {
   "cell_type": "code",
   "execution_count": 15,
   "metadata": {},
   "outputs": [],
   "source": [
    "from sklearn.datasets import load_digits\n",
    "from sklearn.decomposition import PCA\n",
    "digits = load_digits()\n",
    "train = range(0, 1700)\n",
    "test = range(1700, len(digits.data))\n",
    "pca = PCA(n_components = 25)\n",
    "pca.fit(digits.data[train])\n",
    "X = pca.transform(digits.data[train]) \n",
    "y = digits.target[train]\n",
    "tX = pca.transform(digits.data[test]) \n",
    "ty = digits.target[test]"
   ]
  },
  {
   "cell_type": "code",
   "execution_count": 16,
   "metadata": {},
   "outputs": [
    {
     "data": {
      "text/plain": [
       "KNeighborsClassifier(algorithm='auto', leaf_size=30, metric='minkowski',\n",
       "           metric_params=None, n_jobs=1, n_neighbors=5, p=2,\n",
       "           weights='uniform')"
      ]
     },
     "execution_count": 16,
     "metadata": {},
     "output_type": "execute_result"
    }
   ],
   "source": [
    "from sklearn.neighbors import KNeighborsClassifier\n",
    "kNN = KNeighborsClassifier(n_neighbors=5, p=2)\n",
    "kNN.fit(X, y)"
   ]
  },
  {
   "cell_type": "code",
   "execution_count": 17,
   "metadata": {},
   "outputs": [
    {
     "name": "stdout",
     "output_type": "stream",
     "text": [
      "Précision: 0.990\n",
      "Prédiction: [2 2 5 7 9 5 4 8 1 4 9 0 8 9 8]\n",
      "Réalité   : [2 2 5 7 9 5 4 8 8 4 9 0 8 9 8]\n"
     ]
    }
   ],
   "source": [
    "print('Précision: %.3f' % kNN.score(tX,ty) )\n",
    "print('Prédiction: %s' % (kNN.predict(tX[-15:,:])) )\n",
    "print('Réalité   : %s' % (ty[-15:]) )"
   ]
  },
  {
   "cell_type": "markdown",
   "metadata": {},
   "source": [
    "## Réglages avisés du paramètre k"
   ]
  },
  {
   "cell_type": "code",
   "execution_count": 18,
   "metadata": {},
   "outputs": [
    {
     "name": "stdout",
     "output_type": "stream",
     "text": [
      "Pour k =   1, la précision est de 0.979\n",
      "Pour k =   5, la précision est de 0.990\n",
      "Pour k =  10, la précision est de 0.969\n",
      "Pour k =  50, la précision est de 0.959\n",
      "Pour k = 100, la précision est de 0.959\n",
      "Pour k = 200, la précision est de 0.907\n"
     ]
    }
   ],
   "source": [
    "for k in [1, 5, 10, 50, 100, 200]:\n",
    "    kNN = KNeighborsClassifier(n_neighbors=k).fit(X, y)\n",
    "    print('Pour k = %3i, la précision est de %.3f' \n",
    "          % (k, kNN.score(tX, ty)))"
   ]
  },
  {
   "cell_type": "code",
   "execution_count": null,
   "metadata": {},
   "outputs": [],
   "source": []
  }
 ],
 "metadata": {
  "kernelspec": {
   "display_name": "Python 3",
   "language": "python",
   "name": "python3"
  },
  "language_info": {
   "codemirror_mode": {
    "name": "ipython",
    "version": 3
   },
   "file_extension": ".py",
   "mimetype": "text/x-python",
   "name": "python",
   "nbconvert_exporter": "python",
   "pygments_lexer": "ipython3",
   "version": "3.6.5"
  }
 },
 "nbformat": 4,
 "nbformat_minor": 1
}
