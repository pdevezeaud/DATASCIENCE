{
 "cells": [
  {
   "cell_type": "markdown",
   "metadata": {},
   "source": [
    "# Arbres de classification et de régression (Chap 20)"
   ]
  },
  {
   "cell_type": "code",
   "execution_count": 1,
   "metadata": {},
   "outputs": [],
   "source": [
    "from sklearn.datasets import load_iris\n",
    "iris = load_iris()\n",
    "X, y = iris.data, iris.target\n",
    "features = iris.feature_names"
   ]
  },
  {
   "cell_type": "code",
   "execution_count": 2,
   "metadata": {},
   "outputs": [],
   "source": [
    "from sklearn.model_selection import cross_val_score\n",
    "from sklearn.model_selection import KFold\n",
    "crossvalidation = KFold(n_splits=5, \n",
    "                        shuffle=True,\n",
    "                        random_state=1)"
   ]
  },
  {
   "cell_type": "code",
   "execution_count": 3,
   "metadata": {},
   "outputs": [
    {
     "name": "stdout",
     "output_type": "stream",
     "text": [
      "Profondeur (depth): 1 Précision (accuracy): 0.580\n",
      "Profondeur (depth): 2 Précision (accuracy): 0.913\n",
      "Profondeur (depth): 3 Précision (accuracy): 0.920\n",
      "Profondeur (depth): 4 Précision (accuracy): 0.940\n",
      "Profondeur (depth): 5 Précision (accuracy): 0.920\n"
     ]
    }
   ],
   "source": [
    "import numpy as np\n",
    "from sklearn import tree\n",
    "for depth in range(1,10):\n",
    "    tree_classifier = tree.DecisionTreeClassifier(\n",
    "        max_depth=depth, random_state=0)\n",
    "    if tree_classifier.fit(X,y).tree_.max_depth < depth:\n",
    "        break\n",
    "    score = np.mean(cross_val_score(tree_classifier, \n",
    "                                    X, y, \n",
    "                                    scoring='accuracy', \n",
    "                                    cv=crossvalidation))\n",
    "    print('Profondeur (depth): %i Précision (accuracy): %.3f' % (depth,score))"
   ]
  },
  {
   "cell_type": "code",
   "execution_count": 4,
   "metadata": {},
   "outputs": [
    {
     "name": "stdout",
     "output_type": "stream",
     "text": [
      "Précision: 0.913\n"
     ]
    }
   ],
   "source": [
    "tree_classifier = tree.DecisionTreeClassifier(\n",
    "    min_samples_split=30, min_samples_leaf=10, \n",
    "    random_state=0)\n",
    "tree_classifier.fit(X,y)\n",
    "score = np.mean(cross_val_score(tree_classifier, X, y, \n",
    "                                scoring='accuracy', \n",
    "                                cv=crossvalidation))\n",
    "print('Précision: %.3f' % score)"
   ]
  },
  {
   "cell_type": "code",
   "execution_count": 5,
   "metadata": {},
   "outputs": [
    {
     "name": "stdout",
     "output_type": "stream",
     "text": [
      "Erreur carrée moyenne (MSE): 22.593\n"
     ]
    }
   ],
   "source": [
    "from sklearn.datasets import load_boston\n",
    "boston = load_boston()\n",
    "X, y = boston.data, boston.target\n",
    "features = boston.feature_names\n",
    "\n",
    "from sklearn.tree import DecisionTreeRegressor\n",
    "regression_tree = tree.DecisionTreeRegressor(\n",
    "    min_samples_split=30, min_samples_leaf=10, \n",
    "    random_state=0)\n",
    "regression_tree.fit(X,y)\n",
    "score = np.mean(cross_val_score(regression_tree, \n",
    "                   X, y, \n",
    "                   scoring='neg_mean_squared_error', \n",
    "                   cv=crossvalidation))\n",
    "print('Erreur carrée moyenne (MSE): %.3f' % abs(score))"
   ]
  },
  {
   "cell_type": "markdown",
   "metadata": {},
   "source": [
    "# Apprendre dans les forêts"
   ]
  },
  {
   "cell_type": "markdown",
   "metadata": {},
   "source": [
    "## Technique d'ensachage Bagging"
   ]
  },
  {
   "cell_type": "code",
   "execution_count": 6,
   "metadata": {},
   "outputs": [],
   "source": [
    "from sklearn.datasets import load_digits\n",
    "digit = load_digits()\n",
    "X, y = digit.data, digit.target"
   ]
  },
  {
   "cell_type": "code",
   "execution_count": 7,
   "metadata": {},
   "outputs": [
    {
     "name": "stdout",
     "output_type": "stream",
     "text": [
      "Précision: 0.965\n"
     ]
    }
   ],
   "source": [
    "from sklearn.ensemble import BaggingClassifier\n",
    "from sklearn.tree import DecisionTreeClassifier\n",
    "from sklearn.model_selection import cross_val_score\n",
    "from sklearn.model_selection import KFold\n",
    "tree_classifier = DecisionTreeClassifier(random_state=0)\n",
    "crossvalidation = KFold(n_splits=5, shuffle=True, \n",
    "                        random_state=1)\n",
    "bagging = BaggingClassifier(tree_classifier, \n",
    "                            max_samples=0.7, \n",
    "                            max_features=0.7, \n",
    "                            n_estimators=300)\n",
    "scores = np.mean(cross_val_score(bagging, X, y, \n",
    "                                 scoring='accuracy', \n",
    "                                 cv=crossvalidation))\n",
    "print ('Précision: %.3f' % scores)"
   ]
  },
  {
   "cell_type": "markdown",
   "metadata": {},
   "source": [
    "## Classifieurs à forêt aléatoire"
   ]
  },
  {
   "cell_type": "code",
   "execution_count": 8,
   "metadata": {},
   "outputs": [
    {
     "name": "stdout",
     "output_type": "stream",
     "text": [
      "Précision: 0.977\n"
     ]
    }
   ],
   "source": [
    "X, y = digit.data, digit.target\n",
    "from sklearn.ensemble import RandomForestClassifier\n",
    "from sklearn.model_selection import cross_val_score\n",
    "from sklearn.model_selection import KFold\n",
    "crossvalidation = KFold(n_splits=5, shuffle=True, \n",
    "                        random_state=1)\n",
    "RF_cls = RandomForestClassifier(n_estimators=300,\n",
    "                               random_state=1)\n",
    "score = np.mean(cross_val_score(RF_cls, X, y, \n",
    "                                scoring='accuracy', \n",
    "                                cv=crossvalidation))\n",
    "print('Précision: %.3f' % score)"
   ]
  },
  {
   "cell_type": "code",
   "execution_count": 9,
   "metadata": {},
   "outputs": [],
   "source": [
    "from sklearn.model_selection import validation_curve\n",
    "param_range = [10, 50, 100, 200, 300, 500, 800, 1000, 1500]\n",
    "crossvalidation = KFold(n_splits=3, \n",
    "                        shuffle=True, \n",
    "                        random_state=1)\n",
    "RF_cls = RandomForestClassifier(n_estimators=300,\n",
    "                               random_state=0)\n",
    "train_scores, test_scores = validation_curve(RF_cls, X, y,\n",
    "                                  'n_estimators', \n",
    "                                  param_range=param_range, \n",
    "                                  cv=crossvalidation, \n",
    "                                  scoring='accuracy')\n",
    "mean_test_scores = np.mean(test_scores, axis=1)"
   ]
  },
  {
   "cell_type": "code",
   "execution_count": 10,
   "metadata": {},
   "outputs": [
    {
     "data": {
      "image/png": "[encoded data removed]",
      "text/plain": [
       "<Figure size 432x288 with 1 Axes>"
      ]
     },
     "metadata": {},
     "output_type": "display_data"
    }
   ],
   "source": [
    "import matplotlib.pyplot as plt\n",
    "%matplotlib inline\n",
    "plt.plot(param_range, mean_test_scores, \n",
    "         'bD-.', label='Score CV')\n",
    "plt.grid()\n",
    "plt.xlabel('Nombre d\\'estimateurs')\n",
    "plt.ylabel('Précision')\n",
    "plt.legend(loc='lower right', numpoints= 1)\n",
    "plt.show()"
   ]
  },
  {
   "cell_type": "markdown",
   "metadata": {},
   "source": [
    "## Régresseurs à forêt aléatoire"
   ]
  },
  {
   "cell_type": "code",
   "execution_count": 11,
   "metadata": {},
   "outputs": [
    {
     "name": "stdout",
     "output_type": "stream",
     "text": [
      "Erreur carrée moyenne: 12.028\n"
     ]
    }
   ],
   "source": [
    "X, y = boston.data, boston.target\n",
    "from sklearn.ensemble import RandomForestRegressor\n",
    "from sklearn.model_selection import cross_val_score\n",
    "from sklearn.model_selection import KFold\n",
    "RF_rg = RandomForestRegressor (n_estimators=300, \n",
    "                               random_state=1)\n",
    "crossvalidation = KFold(n_splits=5, shuffle=True, \n",
    "                        random_state=1)\n",
    "score = np.mean(cross_val_score(RF_rg, X, y, \n",
    "                    scoring='neg_mean_squared_error', \n",
    "                    cv=crossvalidation))\n",
    "print('Erreur carrée moyenne: %.3f' % abs(score))"
   ]
  },
  {
   "cell_type": "markdown",
   "metadata": {},
   "source": [
    "## Optimisation d'une forêt aléatoire"
   ]
  },
  {
   "cell_type": "code",
   "execution_count": 12,
   "metadata": {},
   "outputs": [],
   "source": [
    "from sklearn.ensemble import RandomForestClassifier\n",
    "from sklearn.model_selection import KFold\n",
    "X, y = digit.data, digit.target\n",
    "crossvalidation = KFold(n_splits=5, shuffle=True, \n",
    "                        random_state=1)\n",
    "RF_cls = RandomForestClassifier(random_state=1)\n",
    "scorer = 'accuracy'"
   ]
  },
  {
   "cell_type": "code",
   "execution_count": 13,
   "metadata": {},
   "outputs": [
    {
     "name": "stdout",
     "output_type": "stream",
     "text": [
      "Meilleurs paramètres: {'max_features': 'sqrt', 'min_samples_leaf': 1, 'n_estimators': 100}\n",
      "Meilleure précision : 0.978\n"
     ]
    }
   ],
   "source": [
    "from sklearn.model_selection import GridSearchCV\n",
    "max_features = [X.shape[1]//3, 'sqrt', 'log2', 'auto']\n",
    "min_samples_leaf = [1, 10, 30]\n",
    "n_estimators = [50, 100, 300]\n",
    "search_grid =  {'n_estimators':n_estimators,\n",
    "                'max_features': max_features, \n",
    "                'min_samples_leaf': min_samples_leaf}\n",
    "search_func = GridSearchCV(estimator=RF_cls, \n",
    "                           param_grid=search_grid, \n",
    "                           scoring=scorer, \n",
    "                           cv=crossvalidation)\n",
    "search_func.fit(X, y)\n",
    "best_params = search_func.best_params_\n",
    "best_score = search_func.best_score_\n",
    "print('Meilleurs paramètres: %s' % best_params)\n",
    "print('Meilleure précision : %.3f' % best_score)"
   ]
  },
  {
   "cell_type": "markdown",
   "metadata": {},
   "source": [
    "# Prédictions par boosting"
   ]
  },
  {
   "cell_type": "code",
   "execution_count": 14,
   "metadata": {},
   "outputs": [],
   "source": [
    "X, y = digit.data, digit.target"
   ]
  },
  {
   "cell_type": "markdown",
   "metadata": {},
   "source": [
    "## Prédicteurs faibles : la force du nombre "
   ]
  },
  {
   "cell_type": "code",
   "execution_count": 15,
   "metadata": {},
   "outputs": [
    {
     "name": "stdout",
     "output_type": "stream",
     "text": [
      "Précision: 0.754\n"
     ]
    }
   ],
   "source": [
    "from sklearn.ensemble import AdaBoostClassifier\n",
    "from sklearn.model_selection import cross_val_score\n",
    "from sklearn.model_selection import KFold\n",
    "ada = AdaBoostClassifier(n_estimators=1000, \n",
    "                         learning_rate=0.01, \n",
    "                         random_state=1)\n",
    "crossvalidation = KFold(n_splits=5, shuffle=True, \n",
    "                        random_state=1)\n",
    "score = np.mean(cross_val_score(ada, X, y, \n",
    "                                scoring='accuracy', \n",
    "                                cv=crossvalidation))\n",
    "print('Précision: %.3f' % score)"
   ]
  },
  {
   "cell_type": "markdown",
   "metadata": {},
   "source": [
    "## Classifieurs à gradient boosting (GBC)"
   ]
  },
  {
   "cell_type": "code",
   "execution_count": 16,
   "metadata": {},
   "outputs": [],
   "source": [
    "X, y = digit.data, digit.target\n",
    "crossvalidation = KFold(n_splits=5, \n",
    "                        shuffle=True, \n",
    "                        random_state=1)"
   ]
  },
  {
   "cell_type": "code",
   "execution_count": 17,
   "metadata": {},
   "outputs": [
    {
     "name": "stdout",
     "output_type": "stream",
     "text": [
      "Précision: 0.972\n"
     ]
    }
   ],
   "source": [
    "from sklearn.ensemble import GradientBoostingClassifier\n",
    "from sklearn.model_selection import cross_val_score\n",
    "GBC = GradientBoostingClassifier(n_estimators=300, \n",
    "                                 subsample=1.0, \n",
    "                                 max_depth=2, \n",
    "                                 learning_rate=0.1, \n",
    "                                 random_state=1)\n",
    "score = np.mean(cross_val_score(GBC, X, y, \n",
    "                                scoring='accuracy', \n",
    "                                cv=crossvalidation))\n",
    "print('Précision: %.3f' % score)"
   ]
  },
  {
   "cell_type": "markdown",
   "metadata": {},
   "source": [
    "## Régresseurs à gradient boosting (GBR)"
   ]
  },
  {
   "cell_type": "code",
   "execution_count": 18,
   "metadata": {},
   "outputs": [],
   "source": [
    "X, y = boston.data, boston.target"
   ]
  },
  {
   "cell_type": "code",
   "execution_count": 19,
   "metadata": {},
   "outputs": [
    {
     "name": "stdout",
     "output_type": "stream",
     "text": [
      "Erreur carrée moyenne: 10.094\n"
     ]
    }
   ],
   "source": [
    "from sklearn.ensemble import GradientBoostingRegressor\n",
    "from sklearn.model_selection import cross_val_score\n",
    "from sklearn.model_selection import KFold\n",
    "GBR = GradientBoostingRegressor(n_estimators=1000, \n",
    "                                subsample=1.0, \n",
    "                                max_depth=3, \n",
    "                                learning_rate=0.01, \n",
    "                                random_state=1)\n",
    "crossvalidation = KFold(n_splits=5, \n",
    "                        shuffle=True, \n",
    "                        random_state=1)\n",
    "score = np.mean(cross_val_score(GBR, X, y, \n",
    "                                scoring='neg_mean_squared_error', \n",
    "                                cv=crossvalidation))\n",
    "print('Erreur carrée moyenne: %.3f' % abs(score))"
   ]
  },
  {
   "cell_type": "markdown",
   "metadata": {},
   "source": [
    "## Hyperparamètres GBM"
   ]
  },
  {
   "cell_type": "code",
   "execution_count": 20,
   "metadata": {},
   "outputs": [],
   "source": [
    "X, y = boston.data, boston.target\n",
    "from sklearn.model_selection import KFold\n",
    "crossvalidation = KFold(n_splits=5, shuffle=True, \n",
    "                        random_state=1)\n",
    "GBR = GradientBoostingRegressor(n_estimators=1000, \n",
    "                                subsample=1.0, \n",
    "                                max_depth=3, \n",
    "                                learning_rate=0.01, \n",
    "                                random_state=1)"
   ]
  },
  {
   "cell_type": "code",
   "execution_count": 21,
   "metadata": {},
   "outputs": [
    {
     "name": "stdout",
     "output_type": "stream",
     "text": [
      "Meilleurs paramètres: {'max_depth': 3, 'n_estimators': 2000, 'subsample': 0.9}\n",
      "Meilleure erreur carrée moyenne: 9.324\n"
     ]
    }
   ],
   "source": [
    "from sklearn.model_selection import GridSearchCV\n",
    "subsample = [1.0, 0.9]\n",
    "max_depth = [2, 3, 5]\n",
    "n_estimators = [500 , 1000, 2000]\n",
    "search_grid =  {'subsample': subsample, \n",
    "                'max_depth': max_depth, \n",
    "                'n_estimators': n_estimators}\n",
    "search_func = GridSearchCV(estimator=GBR, \n",
    "             param_grid=search_grid, \n",
    "             scoring='neg_mean_squared_error',\n",
    "             cv=crossvalidation)\n",
    "search_func.fit(X,y)\n",
    "\n",
    "best_params = search_func.best_params_\n",
    "best_score = abs(search_func.best_score_)\n",
    "print('Meilleurs paramètres: %s' % best_params)\n",
    "print('Meilleure erreur carrée moyenne: %.3f' % best_score)"
   ]
  },
  {
   "cell_type": "code",
   "execution_count": null,
   "metadata": {},
   "outputs": [],
   "source": []
  }
 ],
 "metadata": {
  "kernelspec": {
   "display_name": "Python 3",
   "language": "python",
   "name": "python3"
  },
  "language_info": {
   "codemirror_mode": {
    "name": "ipython",
    "version": 3
   },
   "file_extension": ".py",
   "mimetype": "text/x-python",
   "name": "python",
   "nbconvert_exporter": "python",
   "pygments_lexer": "ipython3",
   "version": "3.6.5"
  }
 },
 "nbformat": 4,
 "nbformat_minor": 1
}
